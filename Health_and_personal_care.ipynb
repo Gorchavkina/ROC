{
 "cells": [
  {
   "cell_type": "code",
   "execution_count": 12,
   "metadata": {},
   "outputs": [],
   "source": [
    "import pandas as pd\n",
    "import numpy as np"
   ]
  },
  {
   "cell_type": "code",
   "execution_count": 13,
   "metadata": {},
   "outputs": [],
   "source": [
    "inf = r'Health_and_Personal_Care_5_roc_crivai.csv' #входной файл\n",
    "names = ['fpr', 'tpr'] #название столбцов\n",
    "outf = \"Health_and_Personal_Care_roc.txt\" #имя файла для записи"
   ]
  },
  {
   "cell_type": "code",
   "execution_count": 14,
   "metadata": {},
   "outputs": [],
   "source": [
    "#алгоритм чтения входного файла\n",
    "with open(inf) as inp:\n",
    "    for j, line in enumerate(inp):\n",
    "        df = pd.read_csv(inp, names = names)"
   ]
  },
  {
   "cell_type": "code",
   "execution_count": 15,
   "metadata": {},
   "outputs": [
    {
     "name": "stdout",
     "output_type": "stream",
     "text": [
      "4\n"
     ]
    }
   ],
   "source": [
    "#подсчет делителя\n",
    "l = len(df)\n",
    "if l%1000 != 0:\n",
    "    n = l//1000 + 1\n",
    "else:\n",
    "    n = l//1000\n",
    "print(n)\n"
   ]
  },
  {
   "cell_type": "code",
   "execution_count": 16,
   "metadata": {},
   "outputs": [],
   "source": [
    "#датафрейм с максимально допустимым колическтвом точек\n",
    "df1 = np.array(df[1:-1:n]) "
   ]
  },
  {
   "cell_type": "code",
   "execution_count": 17,
   "metadata": {},
   "outputs": [],
   "source": [
    "#запись в текстовый файл\n",
    "with open(outf, \"w\") as output:\n",
    "    for i in range(len(df1)):\n",
    "        o = str(df1[i][0]) + \" \" + str(df1[i][1]) + \"\\n\"\n",
    "        output.write(o)"
   ]
  },
  {
   "cell_type": "code",
   "execution_count": null,
   "metadata": {},
   "outputs": [],
   "source": []
  }
 ],
 "metadata": {
  "kernelspec": {
   "display_name": "Python 3",
   "language": "python",
   "name": "python3"
  },
  "language_info": {
   "codemirror_mode": {
    "name": "ipython",
    "version": 3
   },
   "file_extension": ".py",
   "mimetype": "text/x-python",
   "name": "python",
   "nbconvert_exporter": "python",
   "pygments_lexer": "ipython3",
   "version": "3.7.0"
  }
 },
 "nbformat": 4,
 "nbformat_minor": 2
}
